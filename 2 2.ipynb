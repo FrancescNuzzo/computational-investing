{
 "cells": [
  {
   "cell_type": "markdown",
   "metadata": {},
   "source": [
    "2.2 Downloading S&P500 Futures Prices and Calculating Annualized Volatility"
   ]
  },
  {
   "cell_type": "code",
   "execution_count": null,
   "metadata": {},
   "outputs": [],
   "source": [
    "# Import libraries\n",
    "import pandas as pd \n",
    "import numpy as np\n",
    "import yfinance as yf\n",
    "\n",
    "# Downloading S&P 500 front month futures price data \n",
    "sp500_futures = yf.download(\"ES=F\")\n",
    "                            \n",
    "# Calculate the daily logarithmic returns\n",
    "sp500_futures[\"Log_Returns\"] = np.log(sp500_futures[\"Adj Close\"] / sp500_futures[\"Adj Close\"].shift(1))\n",
    "                    \n",
    "# Calculate the volatility of the logarithmic returns\n",
    "volatility = sp500_futures[\"Log_Returns\"].std()\n",
    "                           \n",
    "# Annualize the volatility\n",
    "annualized_volatility = np.round(volatility * np.sqrt(252)*100,2)\n",
    "\n",
    "print(f\"Annualized Volatility: {annualized_volatility}%\")"
   ]
  }
 ],
 "metadata": {
  "kernelspec": {
   "display_name": "Python 3",
   "language": "python",
   "name": "python3"
  },
  "language_info": {
   "codemirror_mode": {
    "name": "ipython",
    "version": 3
   },
   "file_extension": ".py",
   "mimetype": "text/x-python",
   "name": "python",
   "nbconvert_exporter": "python",
   "pygments_lexer": "ipython3",
   "version": "3.12.0"
  }
 },
 "nbformat": 4,
 "nbformat_minor": 2
}
