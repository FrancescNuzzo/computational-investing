{
 "cells": [
  {
   "cell_type": "markdown",
   "metadata": {},
   "source": [
    "1.4.2 Calculate and Plot Cumulative Returns"
   ]
  },
  {
   "cell_type": "code",
   "execution_count": null,
   "metadata": {},
   "outputs": [],
   "source": [
    "# Calculate cumulative returns\n",
    "cumulative_arithmetic_return = np.cumsum(arithmetic_returns)\n",
    "cumulative_logarithmic_return = np.exp(np.cumsum(log_returns)) - 1\n",
    "\n",
    "# Plotting cumulative returns over time\n",
    "plt.figure(figsize=(10, 6))\n",
    "plt.plot(cumulative_arithmetic_return, label='Cumulative Arithmetic Returns', marker='o')\n",
    "plt.plot(cumulative_logarithmic_return, label='Cumulative Logarithmic Returns', marker='x')\n",
    "plt.title('Cumulative Arithmetic vs. Logarithmic Returns')\n",
    "plt.xlabel('Year')\n",
    "plt.ylabel('Cumulative Returns')\n",
    "plt.legend()\n",
    "plt.grid(True)\n",
    "plt.show()"
   ]
  }
 ],
 "metadata": {
  "kernelspec": {
   "display_name": "Python 3",
   "language": "python",
   "name": "python3"
  },
  "language_info": {
   "codemirror_mode": {
    "name": "ipython",
    "version": 3
   },
   "file_extension": ".py",
   "mimetype": "text/x-python",
   "name": "python",
   "nbconvert_exporter": "python",
   "pygments_lexer": "ipython3",
   "version": "3.12.0"
  }
 },
 "nbformat": 4,
 "nbformat_minor": 2
}
