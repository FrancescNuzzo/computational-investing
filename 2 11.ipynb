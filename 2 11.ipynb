{
 "cells": [
  {
   "cell_type": "markdown",
   "metadata": {},
   "source": [
    "2.11 Calculating and Plotting Ongoing Drawdown of S&P 500 Futures"
   ]
  },
  {
   "cell_type": "code",
   "execution_count": null,
   "metadata": {},
   "outputs": [],
   "source": [
    "import pandas as pd\n",
    "import numpy as np\n",
    "import yfinance as yf\n",
    "import matplotlib.pyplot as plt\n",
    "\n",
    "# Download S&P 500 front month futures data\n",
    "sp500_futures = yf.download('ES=F')\n",
    "\n",
    "# Calculate logarithmic returns\n",
    "sp500_futures['Log_Returns'] = np.log(sp500_futures['Adj Close'] / sp500_futures['Adj Close'].shift(1))\n",
    "\n",
    "# Calculate cumulative returns\n",
    "sp500_futures['Cumulative_Returns'] = sp500_futures['Log_Returns'].cumsum()\n",
    "\n",
    "# Calculate ongoing drawdown\n",
    "rolling_max = sp500_futures['Cumulative_Returns'].cummax()\n",
    "sp500_futures['Drawdown'] = rolling_max - sp500_futures['Cumulative_Returns']\n",
    "\n",
    "# Plotting the results\n",
    "fig, ax = plt.subplots()\n",
    "ax.fill_between(sp500_futures.index, sp500_futures['Drawdown'], color='red', alpha=0.3)\n",
    "ax.plot(sp500_futures['Cumulative_Returns'], label='Cumulative Returns')\n",
    "ax.set_title('Cumulative Returns and Ongoing Drawdown')\n",
    "ax.set_xlabel('Date')\n",
    "ax.set_ylabel('Returns/Drawdown')\n",
    "ax.legend()\n",
    "plt.show()\n"
   ]
  }
 ],
 "metadata": {
  "kernelspec": {
   "display_name": "Python 3",
   "language": "python",
   "name": "python3"
  },
  "language_info": {
   "codemirror_mode": {
    "name": "ipython",
    "version": 3
   },
   "file_extension": ".py",
   "mimetype": "text/x-python",
   "name": "python",
   "nbconvert_exporter": "python",
   "pygments_lexer": "ipython3",
   "version": "3.12.0"
  }
 },
 "nbformat": 4,
 "nbformat_minor": 2
}
