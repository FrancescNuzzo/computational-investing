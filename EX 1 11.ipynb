{
 "cells": [
  {
   "cell_type": "markdown",
   "metadata": {},
   "source": [
    "1.11 Visualizing S&P 500 Futures Log- arithmic Returns Distribution"
   ]
  },
  {
   "cell_type": "code",
   "execution_count": null,
   "metadata": {},
   "outputs": [],
   "source": [
    "# Import libraries\n",
    "import pandas as pd\n",
    "import numpy as np \n",
    "import yfinance as yf\n",
    "import matplotlib.pyplot as plt \n",
    "import matplotlib.ticker as ticker\n",
    "\n",
    "# Download front month S&P500 futures price data\n",
    "sp500_futures = yf.download('ES=F')\n",
    "                            \n",
    "# Calculate daily logarithmic returns of the futures prices\n",
    "sp500_futures['Log_Returns'] = np.log(sp500_futures['Adj Close']).diff()\n",
    "                                                    \n",
    "# Determine the number of bins for the histogram\n",
    "max_daily_return = np.round(sp500_futures['Log_Returns'].max(), 2)\n",
    "min_daily_return = np.round(sp500_futures['Log_Returns'].min(), 2)\n",
    "n_bins = int((max_daily_return - min_daily_return) * 100)\n",
    "\n",
    "# Plot a histogram of the logarithmic returns\n",
    "plt.hist(sp500_futures['Log_Returns'], bins=n_bins, color=\"orange\", label=\"Return Distribution\")\n",
    "         \n",
    "# Add a vertical dashed line to indicate the mean of the returns\n",
    "plt.axvline(sp500_futures['Log_Returns'].mean(), color='black', linestyle='dashed', linewidth=2, label=\"Daily Mean Return\")\n",
    "            \n",
    "# Configure the plot\n",
    "plt.title('Histogram of S&P 500 Futures Logarithmic Returns')\n",
    "plt.xlabel('Logarithmic Returns') \n",
    "plt.ylabel('Frequency (log)')\n",
    "plt.yscale(\"log\") \n",
    "plt.gca().yaxis.set_major_formatter(ticker.StrMethodFormatter('{x:,.0f}')) \n",
    "plt.legend()\n",
    "\n",
    "# Display the plot\n",
    "plt.show()"
   ]
  }
 ],
 "metadata": {
  "kernelspec": {
   "display_name": "Python 3",
   "language": "python",
   "name": "python3"
  },
  "language_info": {
   "codemirror_mode": {
    "name": "ipython",
    "version": 3
   },
   "file_extension": ".py",
   "mimetype": "text/x-python",
   "name": "python",
   "nbconvert_exporter": "python",
   "pygments_lexer": "ipython3",
   "version": "3.12.0"
  }
 },
 "nbformat": 4,
 "nbformat_minor": 2
}
