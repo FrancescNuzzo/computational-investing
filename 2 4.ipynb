{
 "cells": [
  {
   "cell_type": "markdown",
   "metadata": {},
   "source": [
    "2.4 Analyzing S&P 500 Futures Log- arithmic Returns Distribution with Standard Deviation Lines"
   ]
  },
  {
   "cell_type": "code",
   "execution_count": null,
   "metadata": {},
   "outputs": [],
   "source": [
    "# Import the libraries \n",
    "import pandas as pd\n",
    "import numpy as np\n",
    "import yfinance as yf\n",
    "import matplotlib.pyplot as plt\n",
    "\n",
    "\n",
    "# Utilize the ‘yfinance‘ library to download the front month S&P500 futures price data\n",
    "sp500_futures = yf.download('ES=F')\n",
    "\n",
    "# Calculate the daily logarithmic returns of the S&P500 futures prices\n",
    "sp500_futures['Log_Returns'] = np.log(sp500_futures['Adj Close']).diff()\n",
    "\n",
    "# Compute the mean of the logarithmic returns \n",
    "mean_return = sp500_futures['Log_Returns'].mean()\n",
    "\n",
    "# Calculate the standard deviation of the logarithmic returns\n",
    "std_return = sp500_futures['Log_Returns'].std()\n",
    "\n",
    "# Determine the number of bins for the histogram based on the range of the logarithmic returns\n",
    "max_log_return = np.round(sp500_futures['Log_Returns'].max(), 2)\n",
    "min_log_return = np.round(sp500_futures['Log_Returns'].min(), 2)\n",
    "n_bins = int((max_log_return - min_log_return) * 100)\n",
    "\n",
    "# Create a histogram of the logarithmic returns\n",
    "plt.hist(sp500_futures['Log_Returns'], bins=n_bins, color=\"orange\", label=\"Logarithmic Returns Distribution\")\n",
    "plt.axvline(mean_return, color='black', linestyle='dashed', linewidth=2, label=\"Mean Return\")\n",
    "\n",
    "# Add the vertical lines for the mean and standard deviations on the histogram\n",
    "for i in range(1, 4):\n",
    "    plt.axvline(mean_return + i * std_return, color='green', linestyle='dashed', linewidth=1, label=f\"+{i} STD\")\n",
    "    plt.axvline(mean_return - i * std_return, color='red', linestyle='dashed', linewidth=1, label=f\"-{i} STD\")\n",
    "\n",
    "# Configure the plot \n",
    "plt.title(\"Logarithmic Returns Distribution with Mean and Standard Deviations\")\n",
    "plt.xlabel(\"Logarithmic Returns\")\n",
    "plt.ylabel(\"Frequency\")\n",
    "plt.legend()\n",
    "#plt.yscale('log')\n",
    "#plt.yticks(np.arange(1, 10, 1), labels=[str(i) for i in range(1, 10)])\n",
    "plt.show()\n"
   ]
  }
 ],
 "metadata": {
  "kernelspec": {
   "display_name": "Python 3",
   "language": "python",
   "name": "python3"
  },
  "language_info": {
   "codemirror_mode": {
    "name": "ipython",
    "version": 3
   },
   "file_extension": ".py",
   "mimetype": "text/x-python",
   "name": "python",
   "nbconvert_exporter": "python",
   "pygments_lexer": "ipython3",
   "version": "3.12.0"
  }
 },
 "nbformat": 4,
 "nbformat_minor": 2
}
