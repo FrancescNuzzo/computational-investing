{
 "cells": [
  {
   "cell_type": "markdown",
   "metadata": {},
   "source": [
    "#1.4.1 Calculate and Plot Annual Arithmetic and Logarithmic Returns"
   ]
  },
  {
   "cell_type": "code",
   "execution_count": null,
   "metadata": {},
   "outputs": [],
   "source": [
    "import numpy as np\n",
    "import matplotlib.pyplot as plt\n",
    "\n",
    "# Example portfolio values over time\n",
    "portfolio_values = np.array([10.0, 12.5, 8.0, 13.5, 7.5, 15.0])\n",
    "\n",
    "# Calculate arithmetic returns\n",
    "arithmetic_returns = (portfolio_values[1:] - portfolio_values[:-1]) / portfolio_values[:-1]\n",
    "\n",
    "# Calculate logarithmic returns\n",
    "log_returns = np.log(portfolio_values[1:] / portfolio_values[:-1])\n",
    "\n",
    "# Plotting the returns\n",
    "plt.figure(figsize=(10, 6))\n",
    "plt.plot(arithmetic_returns, label='Arithmetic Returns', marker='o')\n",
    "plt.plot(log_returns, label='Logarithmic Returns', marker='x')\n",
    "plt.title('Annual Arithmetic vs. Logarithmic Returns')\n",
    "plt.xlabel('Year')\n",
    "plt.ylabel('Returns')\n",
    "plt.legend()\n",
    "plt.grid(True)\n",
    "plt.show()\n"
   ]
  }
 ],
 "metadata": {
  "kernelspec": {
   "display_name": "Python 3",
   "language": "python",
   "name": "python3"
  },
  "language_info": {
   "codemirror_mode": {
    "name": "ipython",
    "version": 3
   },
   "file_extension": ".py",
   "mimetype": "text/x-python",
   "name": "python",
   "nbconvert_exporter": "python",
   "pygments_lexer": "ipython3",
   "version": "3.12.0"
  }
 },
 "nbformat": 4,
 "nbformat_minor": 2
}
