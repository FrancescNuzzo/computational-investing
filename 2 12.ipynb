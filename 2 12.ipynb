{
 "cells": [
  {
   "cell_type": "markdown",
   "metadata": {},
   "source": [
    "2.12 Calculating and Plotting Ongoing Drawdown of a Mixed Portfolio"
   ]
  },
  {
   "cell_type": "code",
   "execution_count": null,
   "metadata": {},
   "outputs": [],
   "source": [
    "# Import libraries\n",
    "import pandas as pd\n",
    "import numpy as np\n",
    "import yfinance as yf\n",
    "import matplotlib.pyplot as plt\n",
    "\n",
    "# Download S&P 500 and US 10-year Treasury futures data\n",
    "sp500_futures = yf.download('ES=F')['Adj Close']\n",
    "treasury_futures = yf.download('ZN=F')['Adj Close']\n",
    "\n",
    "# Align the datasets\n",
    "data = pd.DataFrame({'SP500': sp500_futures,'Treasury': treasury_futures}).dropna()\n",
    "\n",
    "# Calculate daily logarithmic returns\n",
    "data['SP500_Returns'] = np.log(data['SP500'] / data['SP500'].shift(1))\n",
    "data['Treasury_Returns'] = np.log(data['Treasury'] / data['Treasury'].shift(1))\n",
    "\n",
    "# Calculate portfolio returns (60% SP500, 40% Treasury)\n",
    "data['Portfolio_Returns'] = 0.6 * data['SP500_Returns'] + 0.4 * data['Treasury_Returns']\n",
    "\n",
    "# Calculate cumulative returns for SP500, Treasury, and Portfolio\n",
    "data['Cumulative_SP500_Returns'] = data['SP500_Returns'].cumsum()\n",
    "data['Cumulative_Treasury_Returns'] = data['Treasury_Returns'].cumsum()\n",
    "data['Cumulative_Returns'] = data['Portfolio_Returns'].cumsum()\n",
    "\n",
    "# Calculate ongoing drawdown\n",
    "rolling_max = data['Cumulative_Returns'].cummax()\n",
    "data['Drawdown'] = rolling_max - data['Cumulative_Returns']\n",
    "\n",
    "# Plotting the results\n",
    "fig, ax = plt.subplots()\n",
    "ax.fill_between(data.index, data['Drawdown'], color='red', alpha=0.3)\n",
    "ax.plot(data['Cumulative_Returns'], label='Portfolio Cumulative Returns')\n",
    "ax.plot(data['Cumulative_SP500_Returns'], label='S&P 500 Cumulative Returns', linestyle='--', linewidth=0.5)\n",
    "ax.plot(data['Cumulative_Treasury_Returns'], label='10-Year Treasury Cumulative Returns', linestyle='--', linewidth=0.5)\n",
    "ax.set_title('Portfolio Cumulative Returns and Ongoing Drawdown')\n",
    "ax.set_xlabel('Date')\n",
    "ax.set_ylabel('Returns/Drawdown')\n",
    "ax.legend()\n",
    "plt.show()\n",
    "\n",
    "print(\"Maximum Drawdown:\", data['Drawdown'].max())\n"
   ]
  }
 ],
 "metadata": {
  "kernelspec": {
   "display_name": "Python 3",
   "language": "python",
   "name": "python3"
  },
  "language_info": {
   "name": "python",
   "version": "3.12.0"
  }
 },
 "nbformat": 4,
 "nbformat_minor": 2
}
