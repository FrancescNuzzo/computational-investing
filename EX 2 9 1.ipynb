{
 "cells": [
  {
   "cell_type": "markdown",
   "metadata": {},
   "source": [
    "2.9.1 Comparing S&P 500 Futures Logarithmic Returns with a Normal Distribution"
   ]
  },
  {
   "cell_type": "code",
   "execution_count": null,
   "metadata": {},
   "outputs": [],
   "source": [
    "#Import libraries\n",
    "import numpy as np\n",
    "import yfinance as yf\n",
    "import matplotlib.pyplot as plt\n",
    "from scipy.stats import norm \n",
    "\n",
    "# 2. Download S&P 500 Futures Data\n",
    "sp500_data = yf.download('ES=F')\n",
    "\n",
    "# 3. Calculate Daily Logarithmic Returns\n",
    "log_returns = np.log(sp500_data['Adj Close'] / sp500_data['Adj Close'].shift(1)).dropna()\n",
    "\n",
    "# 4. Calculate Mean and Standard Deviation of Returns\n",
    "mean, std = log_returns.mean(), log_returns.std()\n",
    "\n",
    "# 5. Generate Range of Values for Normal Distribution\n",
    "n_bins = int((max(log_returns) - min(log_returns)) * 10000)\n",
    "norm_dist = np.linspace(min(log_returns), max(log_returns), n_bins)\n",
    "\n",
    "# 6. Calculate Normal Distribution Curve\n",
    "norm_curve = norm.pdf(norm_dist, mean, std)\n",
    "\n",
    "# 7. Plot Histogram and Normal Distribution\n",
    "plt.hist(log_returns, bins=n_bins, color=\"orange\", alpha=0.7, label=\"Actual Distribution\")\n",
    "plt.plot(norm_dist, norm_curve, label=\"Normal Distribution\", linewidth=2)\n",
    "\n",
    "# 8. Add Vertical Lines for Mean and Standard Deviations\n",
    "plt.axvline(mean + i * std, color='green', linestyle='dashed', linewidth=1, label=f\"+{i} STD\")\n",
    "plt.axvline(mean - i * std, color='red', linestyle='dashed', linewidth=1, label=f\"-{i} STD\")\n",
    "\n",
    "# 9. Finalize the Plot\n",
    "plt.title(\"Logarithmic Returns Distribution with Normal Distribution Fit\")\n",
    "plt.xlabel(\"Logarithmic Returns\")\n",
    "plt.ylabel(\"Frequency/Density\")\n",
    "plt.legend()\n",
    "plt.show()"
   ]
  }
 ],
 "metadata": {
  "kernelspec": {
   "display_name": "Python 3",
   "language": "python",
   "name": "python3"
  },
  "language_info": {
   "codemirror_mode": {
    "name": "ipython",
    "version": 3
   },
   "file_extension": ".py",
   "mimetype": "text/x-python",
   "name": "python",
   "nbconvert_exporter": "python",
   "pygments_lexer": "ipython3",
   "version": "3.12.0"
  }
 },
 "nbformat": 4,
 "nbformat_minor": 2
}
