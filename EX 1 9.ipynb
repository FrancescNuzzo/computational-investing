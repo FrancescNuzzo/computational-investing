{
 "cells": [
  {
   "cell_type": "markdown",
   "metadata": {},
   "source": [
    "1.9 Downloading S&P500 Futures Prices and Calculating Annualized Mean Logarithmic Return"
   ]
  },
  {
   "cell_type": "code",
   "execution_count": null,
   "metadata": {},
   "outputs": [],
   "source": [
    "# Import libraries\n",
    "import pandas as pd\n",
    "import numpy as np\n",
    "import yfinance as yf\n",
    "\n",
    "# Use the 'yfinance' library to download the front month S&P 500 futures price data.\n",
    "sp500_futures = yf.download('ES=F')\n",
    "\n",
    "# Calculate the daily logarithmic returns of the futures prices.\n",
    "sp500_futures['Log_Returns'] = np.log(sp500_futures['Adj Close'] / sp500_futures['Adj Close'].shift(1))\n",
    "\n",
    "# Annualize the mean of the logarithmic returns.\n",
    "annualized_return = sp500_futures['Log_Returns'].mean() * 252\n",
    "print(\"Annualized Return:\", annualized_return)"
   ]
  }
 ],
 "metadata": {
  "kernelspec": {
   "display_name": "Python 3",
   "language": "python",
   "name": "python3"
  },
  "language_info": {
   "codemirror_mode": {
    "name": "ipython",
    "version": 3
   },
   "file_extension": ".py",
   "mimetype": "text/x-python",
   "name": "python",
   "nbconvert_exporter": "python",
   "pygments_lexer": "ipython3",
   "version": "3.12.0"
  }
 },
 "nbformat": 4,
 "nbformat_minor": 2
}
