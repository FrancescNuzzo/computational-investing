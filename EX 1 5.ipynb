{
 "cells": [
  {
   "cell_type": "markdown",
   "metadata": {},
   "source": [
    "1.5 S&P 500 Futures Data Analysis"
   ]
  },
  {
   "cell_type": "code",
   "execution_count": null,
   "metadata": {},
   "outputs": [],
   "source": [
    "import yfinance as yf\n",
    "import pandas as pd\n",
    "import numpy as np\n",
    "import matplotlib.pyplot as plt\n",
    "\n",
    "# Downloading S&P 500 futures data\n",
    "ticker = \"ES=F\"  \n",
    "data = yf.download(ticker)\n",
    "\n",
    "# Creating a pandas dataframe\n",
    "sp500_data = pd.DataFrame(data)\n",
    "print(sp500_data.head())  \n",
    "\n",
    "# Calculate arithmetic and logarithmic returns\n",
    "arithmetic_returns = (sp500_data['Close'].pct_change() * 100).dropna()\n",
    "log_returns = np.log(sp500_data['Close'] / sp500_data['Close'].shift(1)) * 100\n",
    "\n",
    "# Plotting annual arithmetic and logarithmic returns\n",
    "plt.figure(figsize=(10, 6))\n",
    "plt.plot(arithmetic_returns, label='Arithmetic Returns', marker='o')\n",
    "plt.plot(log_returns, label='Logarithmic Returns', marker='x')\n",
    "plt.title('Annual Arithmetic vs. Logarithmic Returns for S&P 500 Futures')\n",
    "plt.xlabel('Year')\n",
    "plt.ylabel('Returns (%)')\n",
    "plt.legend()\n",
    "plt.grid(True)\n",
    "plt.show()\n",
    "\n",
    "# Calculate cumulative returns\n",
    "cumulative_arithmetic_return = np.cumsum(arithmetic_returns)\n",
    "cumulative_logarithmic_return = np.cumsum(log_returns)\n",
    "\n",
    "# Plotting cumulative returns\n",
    "plt.figure(figsize=(10, 6))\n",
    "plt.plot(cumulative_arithmetic_return, label='Cumulative Arithmetic Returns', marker='o')\n",
    "plt.plot(cumulative_logarithmic_return, label='Cumulative Logarithmic Returns', marker='x')\n",
    "plt.title('Cumulative Arithmetic vs. Logarithmic Returns for S&P 500 Futures')\n",
    "plt.xlabel('Year')\n",
    "plt.ylabel('Cumulative Returns (%)')\n",
    "plt.legend()\n",
    "plt.grid(True)\n",
    "plt.show()\n"
   ]
  }
 ],
 "metadata": {
  "kernelspec": {
   "display_name": "Python 3",
   "language": "python",
   "name": "python3"
  },
  "language_info": {
   "codemirror_mode": {
    "name": "ipython",
    "version": 3
   },
   "file_extension": ".py",
   "mimetype": "text/x-python",
   "name": "python",
   "nbconvert_exporter": "python",
   "pygments_lexer": "ipython3",
   "version": "3.12.0"
  }
 },
 "nbformat": 4,
 "nbformat_minor": 2
}
